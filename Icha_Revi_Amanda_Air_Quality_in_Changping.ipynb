{
  "cells": [
    {
      "cell_type": "markdown",
      "metadata": {
        "id": "AywJNlWCfEKa"
      },
      "source": [
        "# Proyek Analisis Data: Air Quality in Changping\n",
        "Name: Icha Revi Amanda\n",
        "\n",
        "Email: m010d4kx2634@bangkit.academy\n",
        "\n",
        "ID Dicoding: icha_revi"
      ]
    },
    {
      "cell_type": "markdown",
      "metadata": {
        "id": "gXzNfI57hBuT"
      },
      "source": [
        "# Define the Question\n",
        "\n",
        "\n",
        "\n",
        "*   How was the condition of PM2.5 during 2015\n",
        "*   How was the relation between PM2.5 and other weather conditions\n",
        "\n"
      ]
    },
    {
      "cell_type": "markdown",
      "metadata": {
        "id": "Wnyb9jTgqI51"
      },
      "source": [
        "# Import All Packages/Libraries Used"
      ]
    },
    {
      "cell_type": "code",
      "execution_count": null,
      "metadata": {
        "id": "XoIeyTJOp9sJ"
      },
      "outputs": [],
      "source": [
        "import numpy as np\n",
        "import pandas as pd\n",
        "import statsmodels.api as sm\n",
        "from scipy.stats import f_oneway\n",
        "import matplotlib.pyplot as plt\n",
        "import seaborn as sns\n",
        "import os\n",
        "\n",
        "sns.set_style(\"darkgrid\")"
      ]
    },
    {
      "cell_type": "code",
      "execution_count": null,
      "metadata": {},
      "outputs": [],
      "source": [
        "pwd = os.getcwd()"
      ]
    },
    {
      "cell_type": "markdown",
      "metadata": {
        "id": "iqsVgxHik5yY"
      },
      "source": [
        "# Data Wrangling"
      ]
    },
    {
      "cell_type": "markdown",
      "metadata": {
        "id": "s7mpRgoVlMSF"
      },
      "source": [
        "## Gathering Data"
      ]
    },
    {
      "cell_type": "code",
      "execution_count": null,
      "metadata": {
        "id": "4uKUDra4fDjh"
      },
      "outputs": [],
      "source": [
        "changping = pwd+'\\\\data\\\\PRSA_Data_Changping_20130301-20170228.csv'\n",
        "df_changping = pd.read_csv(changping)\n",
        "df_changping"
      ]
    },
    {
      "cell_type": "code",
      "execution_count": null,
      "metadata": {},
      "outputs": [],
      "source": [
        "changping_modified = df_changping.copy()"
      ]
    },
    {
      "cell_type": "markdown",
      "metadata": {
        "id": "rpkb18Vvpq4M"
      },
      "source": [
        "### Assessing Data"
      ]
    },
    {
      "cell_type": "markdown",
      "metadata": {
        "id": "N6zeR5UOGdk7"
      },
      "source": [
        "Examine the initial 5 data points to determine the value you possess and make into columns"
      ]
    },
    {
      "cell_type": "code",
      "execution_count": null,
      "metadata": {
        "colab": {
          "base_uri": "https://localhost:8080/"
        },
        "id": "XX2Yyc2jpy4r",
        "outputId": "f15f8058-fa1c-45ba-9700-b37ffc6d0804"
      },
      "outputs": [],
      "source": [
        "changping_modified = df_changping.info()\n",
        "columns_df = df_changping.columns\n",
        "\n",
        "changping_modified, columns_df"
      ]
    },
    {
      "cell_type": "code",
      "execution_count": null,
      "metadata": {},
      "outputs": [],
      "source": [
        "changping_modified = df_changping.describe(include='all')\n",
        "changping_modified"
      ]
    },
    {
      "cell_type": "code",
      "execution_count": null,
      "metadata": {},
      "outputs": [],
      "source": [
        "changping_modified.isna().sum()"
      ]
    },
    {
      "cell_type": "markdown",
      "metadata": {
        "id": "jQd3KMuLsqda"
      },
      "source": [
        "## Cleaning Data"
      ]
    },
    {
      "cell_type": "code",
      "execution_count": null,
      "metadata": {
        "colab": {
          "base_uri": "https://localhost:8080/",
          "height": 723
        },
        "id": "3fGswG6kstpy",
        "outputId": "3eadfadb-3d29-4102-d19b-53f03216bc7c"
      },
      "outputs": [],
      "source": [
        "missing_rate = df_changping.isnull().mean() * 100\n",
        "columns_plot = ['PM2.5', 'PM10']\n",
        "missing_data = df_changping[columns_plot].isnull()\n",
        "missing_data['year'] = df_changping['year']\n",
        "missing_data_2015 = missing_data[missing_data['year'] == 2015]\n",
        "\n",
        "plt.figure(figsize=(20, 8))\n",
        "sns.heatmap(missing_data_2015.drop('year', axis=1), cmap='inferno', cbar=True)\n",
        "plt.title('Pattern for Missing Data in 2015')\n",
        "plt.xlabel('Date')\n",
        "plt.ylabel('Pollutant')\n",
        "plt.yticks(rotation=0)\n",
        "plt.show()\n",
        "\n",
        "missing_rate, missing_data_2015.sum()"
      ]
    },
    {
      "cell_type": "markdown",
      "metadata": {
        "id": "TAbtnu4YG95x"
      },
      "source": [
        "Examined the missing value using the missing rate because the amount of missing data is relative small\n",
        "\n",
        "\n",
        "*   The proportion of data attributed to PM2.5 pollutants stands at a modest 2.2%, and for PM10, it is 1.65%. This indicates that the acquired data is nearly completed\n",
        "\n"
      ]
    },
    {
      "cell_type": "code",
      "execution_count": null,
      "metadata": {
        "colab": {
          "base_uri": "https://localhost:8080/"
        },
        "id": "vNfWbzQlyNTa",
        "outputId": "a3d18c6e-a22b-475f-beaa-0967854faf1e"
      },
      "outputs": [],
      "source": [
        "data_inserted = df_changping.fillna(method='ffill')\n",
        "duplicates = data_inserted.duplicated().sum()\n",
        "constant_columns = data_inserted.columns[data_inserted.nunique() <= 1]\n",
        "data_types = data_inserted.dtypes\n",
        "duplicates, constant_columns, data_types"
      ]
    },
    {
      "cell_type": "markdown",
      "metadata": {
        "id": "gdQCMIo1JzBK"
      },
      "source": [
        "After using the 'duplicated' function to assess duplicate rows, the output indicates that no rows are duplicated\n",
        "\n"
      ]
    },
    {
      "cell_type": "code",
      "execution_count": null,
      "metadata": {
        "colab": {
          "base_uri": "https://localhost:8080/",
          "height": 320
        },
        "id": "d9MKKg4hzIup",
        "outputId": "d0927236-fc76-45c0-d3cf-2b029e35c409"
      },
      "outputs": [],
      "source": [
        "summary_statistics = data_inserted.describe()\n",
        "summary_statistics"
      ]
    },
    {
      "cell_type": "markdown",
      "metadata": {
        "id": "tIGxWo_rKf_X"
      },
      "source": [
        "## Cleaned Data\n",
        "\n",
        "\n",
        "*   Filled the missing data\n",
        "*   Checked the duplicated rows and no rows are duplicated\n",
        "\n",
        "*   Used the Changping station for analyzed\n",
        "\n",
        "\n",
        "\n"
      ]
    },
    {
      "cell_type": "markdown",
      "metadata": {
        "id": "8H0G4a-Zx1Rh"
      },
      "source": [
        "# Exploratory Data Analysis (EDA)"
      ]
    },
    {
      "cell_type": "markdown",
      "metadata": {
        "id": "x4XfBy9gz0Vt"
      },
      "source": [
        "## Explore"
      ]
    },
    {
      "cell_type": "code",
      "execution_count": null,
      "metadata": {},
      "outputs": [],
      "source": [
        "df_changping.sample(10)"
      ]
    },
    {
      "cell_type": "markdown",
      "metadata": {},
      "source": [
        "*   Conduct statistical summaries\n",
        "*   Analyze seasonal patterns and relationships with weather conditions"
      ]
    },
    {
      "cell_type": "markdown",
      "metadata": {
        "id": "qSI8pCLd0D5q"
      },
      "source": [
        "# Visualization & Explanatory Analysis"
      ]
    },
    {
      "cell_type": "markdown",
      "metadata": {
        "id": "YuPl8q-e0MrQ"
      },
      "source": [
        "## Conduct statistical summaries"
      ]
    },
    {
      "cell_type": "code",
      "execution_count": null,
      "metadata": {
        "colab": {
          "base_uri": "https://localhost:8080/",
          "height": 302
        },
        "id": "jp6VMxigz3W3",
        "outputId": "a571b3e4-2599-4e88-9d1f-ac4fbe4e1ca9"
      },
      "outputs": [],
      "source": [
        "data_inserted['date'] = pd.to_datetime(data_inserted[['year', 'month', 'day', 'hour']])\n",
        "data_time_series = data_inserted[['date', 'PM2.5', 'O3']].set_index('date').resample('M').mean()\n",
        "\n",
        "plt.figure(figsize=(15, 6))\n",
        "plt.plot(data_time_series.index, data_time_series['PM2.5'], label='PM2.5', color='red')\n",
        "plt.plot(data_time_series.index, data_time_series['O3'], label='O3', color='green')\n",
        "plt.title('Monthly Average Pollutant Concentrations of PM2.5 and O3')\n",
        "plt.xlabel('Date')\n",
        "plt.ylabel('Concentrations')\n",
        "plt.legend()\n",
        "plt.show()"
      ]
    },
    {
      "cell_type": "code",
      "execution_count": null,
      "metadata": {
        "colab": {
          "base_uri": "https://localhost:8080/",
          "height": 414
        },
        "id": "aHACtbKaTU45",
        "outputId": "c0f54233-1a2d-459d-d120-e46433b393c2"
      },
      "outputs": [],
      "source": [
        "correlation_matrix = data_inserted[['PM2.5', 'PM10', 'SO2', 'NO2', 'CO', 'O3', 'TEMP', 'PRES', 'DEWP', 'RAIN', 'WSPM']].corr()\n",
        "correlation_matrix"
      ]
    },
    {
      "cell_type": "markdown",
      "metadata": {
        "id": "eLP6NTsdQgbF"
      },
      "source": [
        "### Statistical Summary\n",
        "\n",
        "*   There are indicating significant variation in the concentration of pollutant that provide a distribution of data. Can be seen from PM2.5 which has a mean of 71.1 and with standard deviation of 72.4\n",
        "*   From the monthly statistics of PM2.5 and O3, it's help to see the seasonal trends change in air quality\n",
        "\n"
      ]
    },
    {
      "cell_type": "markdown",
      "metadata": {
        "id": "XAZlnL-h0PlM"
      },
      "source": [
        "## Analyze seasonal patterns and relationships with weather conditions"
      ]
    },
    {
      "cell_type": "code",
      "execution_count": null,
      "metadata": {
        "colab": {
          "base_uri": "https://localhost:8080/",
          "height": 821
        },
        "id": "cpUQr1j3Zahs",
        "outputId": "8d3a7e2d-9d94-40ac-c232-285a1251ba9a"
      },
      "outputs": [],
      "source": [
        "data_inserted.fillna(method='ffill', inplace=True)\n",
        "\n",
        "\n",
        "groups = data_inserted.groupby('year')['PM2.5']\n",
        "\n",
        "anova_test_data = [group[1] for group in groups]\n",
        "\n",
        "anova_test_result = f_oneway(*anova_test_data)\n",
        "\n",
        "\n",
        "seasonal_pattern = data_inserted.groupby('month')['PM2.5'].mean()\n",
        "\n",
        "weather_relations = df_changping[['TEMP', 'PRES', 'DEWP', 'RAIN', 'PM2.5']].corr()['PM2.5']\n",
        "\n",
        "\n",
        "print(\"ANOVA Test Result:\", anova_test_result)\n",
        "print(\"Seasonal Month:\", seasonal_pattern)\n",
        "print(\"Correlations with Weather Conditions:\", weather_relations)\n",
        "\n",
        "plt.figure(figsize=(10, 6))\n",
        "seasonal_pattern.plot(kind='bar', color='grey')\n",
        "plt.title('Mean PM2.5 Levels by Month')\n",
        "plt.xlabel('Month')\n",
        "plt.ylabel('Mean PM2.5')\n",
        "plt.xticks(ticks=range(0, 12), labels=[str(m) for m in range(1, 13)], rotation=0)\n",
        "plt.show()"
      ]
    },
    {
      "cell_type": "markdown",
      "metadata": {
        "id": "KrqRTnlUa7Rk"
      },
      "source": [
        "### Seasonal Patterns\n",
        "\n",
        "\n",
        "*   Based on bar chart, it illustrate the monthly concentration of PM2.5 for each month.\n",
        "*   The highest monthly average concentration of PM2.5 pollution occurs in January, March, and December that belongs to winter seasons\n",
        "The lower monthly average concentration of PM2.5 occurs in August and September which is summer seasons\n",
        "\n",
        "### Relations with Weather Conditions\n",
        "\n",
        "\n",
        "*   Correlations with pollutants: The correlation among various pollutants indicates an relationships with meteorological data. Such is  the relation between PM2.5 and O3 suggests a robust relationship, implying a probable shared source or interaction between these pollutants.\n",
        "*   Correlations with weather conditions: The correlations between PM2.5 and weather conditions shows that\n",
        "\n",
        "1.   Has a negative correlation with TEMPT, where PM2.5 higher during lowest TEMPT\n",
        "2.   Has a positive correlation with DEWP, where PM2.5 higher during higher humidity\n",
        "3.  Has no strong correlation with PRESS and RAIN\n",
        "\n",
        "\n",
        "\n",
        "\n",
        "\n"
      ]
    },
    {
      "cell_type": "code",
      "execution_count": null,
      "metadata": {},
      "outputs": [],
      "source": [
        "changping_modified.to_csv(pwd + \"\\\\dashboard\\\\changping_df.csv\", index=False)"
      ]
    },
    {
      "cell_type": "markdown",
      "metadata": {
        "id": "xBfjfPG20S_B"
      },
      "source": [
        "# Conclusion\n",
        "\n",
        "\n",
        "\n",
        "*   During 2015 PM2.5 has higher concentrations in winter seasons which is in January, March and December and lower in summer seasons which is in August and September. This probably happens cause the atmosphere conditions.\n",
        "*   PM2.5 has a negative correlation with TEMPT and has a positive correlation with DEWP. Unexpected correlation with PRESS and RAIN that has very small to no correlation. It means that PRESS and RAIN has no impact on the PM2.5 concentrations."
      ]
    }
  ],
  "metadata": {
    "colab": {
      "provenance": []
    },
    "kernelspec": {
      "display_name": "Python 3",
      "name": "python3"
    },
    "language_info": {
      "codemirror_mode": {
        "name": "ipython",
        "version": 3
      },
      "file_extension": ".py",
      "mimetype": "text/x-python",
      "name": "python",
      "nbconvert_exporter": "python",
      "pygments_lexer": "ipython3",
      "version": "3.11.8"
    }
  },
  "nbformat": 4,
  "nbformat_minor": 0
}
